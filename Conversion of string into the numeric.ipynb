{
 "cells": [
  {
   "cell_type": "code",
   "execution_count": 51,
   "metadata": {},
   "outputs": [],
   "source": [
    "import numpy as np\n",
    "import pandas as pd\n"
   ]
  },
  {
   "cell_type": "markdown",
   "metadata": {},
   "source": [
    "## upload the dataset"
   ]
  },
  {
   "cell_type": "code",
   "execution_count": 53,
   "metadata": {},
   "outputs": [
    {
     "data": {
      "text/plain": [
       "(458, 2)"
      ]
     },
     "execution_count": 53,
     "metadata": {},
     "output_type": "execute_result"
    }
   ],
   "source": [
    "df =pd.read_csv(\"links.csv\")\n",
    "df.head()\n",
    "df.shape"
   ]
  },
  {
   "cell_type": "markdown",
   "metadata": {},
   "source": [
    "# isnull()"
   ]
  },
  {
   "cell_type": "code",
   "execution_count": 54,
   "metadata": {},
   "outputs": [
    {
     "data": {
      "text/plain": [
       "Title      0\n",
       "price    252\n",
       "dtype: int64"
      ]
     },
     "execution_count": 54,
     "metadata": {},
     "output_type": "execute_result"
    }
   ],
   "source": [
    "df.isnull().sum()"
   ]
  },
  {
   "cell_type": "markdown",
   "metadata": {},
   "source": [
    "# fillna (0) to NaN"
   ]
  },
  {
   "cell_type": "code",
   "execution_count": 55,
   "metadata": {},
   "outputs": [],
   "source": [
    "df[\"price_new\"] =df[\"price\"].fillna(0)\n"
   ]
  },
  {
   "cell_type": "code",
   "execution_count": 56,
   "metadata": {},
   "outputs": [
    {
     "data": {
      "text/plain": [
       "Title          0\n",
       "price        252\n",
       "price_new      0\n",
       "dtype: int64"
      ]
     },
     "execution_count": 56,
     "metadata": {},
     "output_type": "execute_result"
    }
   ],
   "source": [
    "df.isnull().sum()"
   ]
  },
  {
   "cell_type": "markdown",
   "metadata": {},
   "source": [
    "# backfill "
   ]
  },
  {
   "cell_type": "code",
   "execution_count": 57,
   "metadata": {},
   "outputs": [],
   "source": [
    "df[\"price_new\"] = df['price_new'].replace(to_replace=0, method='ffill')"
   ]
  },
  {
   "cell_type": "code",
   "execution_count": 58,
   "metadata": {},
   "outputs": [
    {
     "data": {
      "text/plain": [
       "Title          0\n",
       "price        252\n",
       "price_new      0\n",
       "dtype: int64"
      ]
     },
     "execution_count": 58,
     "metadata": {},
     "output_type": "execute_result"
    }
   ],
   "source": [
    "df.isnull().sum()"
   ]
  },
  {
   "cell_type": "code",
   "execution_count": 59,
   "metadata": {},
   "outputs": [
    {
     "data": {
      "text/html": [
       "<div>\n",
       "<style scoped>\n",
       "    .dataframe tbody tr th:only-of-type {\n",
       "        vertical-align: middle;\n",
       "    }\n",
       "\n",
       "    .dataframe tbody tr th {\n",
       "        vertical-align: top;\n",
       "    }\n",
       "\n",
       "    .dataframe thead th {\n",
       "        text-align: right;\n",
       "    }\n",
       "</style>\n",
       "<table border=\"1\" class=\"dataframe\">\n",
       "  <thead>\n",
       "    <tr style=\"text-align: right;\">\n",
       "      <th></th>\n",
       "      <th>Title</th>\n",
       "      <th>price</th>\n",
       "      <th>price_new</th>\n",
       "    </tr>\n",
       "  </thead>\n",
       "  <tbody>\n",
       "    <tr>\n",
       "      <td>0</td>\n",
       "      <td>Wet n Wild-MegaGlo Dual-Ended Contour Stick  -...</td>\n",
       "      <td>Rs.960.00</td>\n",
       "      <td>Rs.960.00</td>\n",
       "    </tr>\n",
       "    <tr>\n",
       "      <td>1</td>\n",
       "      <td>L.A Girl- Illuminating Blush- Playful Pink, BL565</td>\n",
       "      <td>Rs.578.00</td>\n",
       "      <td>Rs.578.00</td>\n",
       "    </tr>\n",
       "    <tr>\n",
       "      <td>2</td>\n",
       "      <td>Maybelline New York- Fit Me Liquid Foundation ...</td>\n",
       "      <td>Rs.599.25</td>\n",
       "      <td>Rs.599.25</td>\n",
       "    </tr>\n",
       "    <tr>\n",
       "      <td>3</td>\n",
       "      <td>Color Studio- Eye Makeup Remover</td>\n",
       "      <td>NaN</td>\n",
       "      <td>Rs.599.25</td>\n",
       "    </tr>\n",
       "    <tr>\n",
       "      <td>4</td>\n",
       "      <td>The Ordinary- 1.0 N Very Fair Serum Foundation...</td>\n",
       "      <td>Rs.1,780.00</td>\n",
       "      <td>Rs.1,780.00</td>\n",
       "    </tr>\n",
       "    <tr>\n",
       "      <td>5</td>\n",
       "      <td>Rimmel London- Lasting Finish Foundation True ...</td>\n",
       "      <td>Rs.1,440.00</td>\n",
       "      <td>Rs.1,440.00</td>\n",
       "    </tr>\n",
       "    <tr>\n",
       "      <td>6</td>\n",
       "      <td>Neutrogena- Deep Clean Makeup Removing Wipes 25'S</td>\n",
       "      <td>Rs.490.00</td>\n",
       "      <td>Rs.490.00</td>\n",
       "    </tr>\n",
       "    <tr>\n",
       "      <td>7</td>\n",
       "      <td>L.A Girl- Illuminating Blush - Bashful, GBL552</td>\n",
       "      <td>Rs.640.00</td>\n",
       "      <td>Rs.640.00</td>\n",
       "    </tr>\n",
       "    <tr>\n",
       "      <td>8</td>\n",
       "      <td>Wet n Wild- Photo Focus MATTE Setting Spray - ...</td>\n",
       "      <td>NaN</td>\n",
       "      <td>Rs.640.00</td>\n",
       "    </tr>\n",
       "    <tr>\n",
       "      <td>9</td>\n",
       "      <td>Rimmel London- Lasting Finish Foundation- Ivor...</td>\n",
       "      <td>Rs.1,440.00</td>\n",
       "      <td>Rs.1,440.00</td>\n",
       "    </tr>\n",
       "    <tr>\n",
       "      <td>10</td>\n",
       "      <td>The Ordinary- 2.0 P Light Medium Coverage Foun...</td>\n",
       "      <td>Rs.1,825.00</td>\n",
       "      <td>Rs.1,825.00</td>\n",
       "    </tr>\n",
       "    <tr>\n",
       "      <td>11</td>\n",
       "      <td>The Ordinary- 2.0 N Light Medium Serum Foundat...</td>\n",
       "      <td>Rs.1,780.00</td>\n",
       "      <td>Rs.1,780.00</td>\n",
       "    </tr>\n",
       "    <tr>\n",
       "      <td>12</td>\n",
       "      <td>Wet n Wild- E373C Photo Focus Foundation - Amb...</td>\n",
       "      <td>Rs.1,360.00</td>\n",
       "      <td>Rs.1,360.00</td>\n",
       "    </tr>\n",
       "    <tr>\n",
       "      <td>13</td>\n",
       "      <td>Wet N Wild- Photo Focus Setting Spray</td>\n",
       "      <td>NaN</td>\n",
       "      <td>Rs.1,360.00</td>\n",
       "    </tr>\n",
       "    <tr>\n",
       "      <td>14</td>\n",
       "      <td>The Ordinary- 1.1 N Fair Serum Foundation 30ml</td>\n",
       "      <td>Rs.1,780.00</td>\n",
       "      <td>Rs.1,780.00</td>\n",
       "    </tr>\n",
       "    <tr>\n",
       "      <td>15</td>\n",
       "      <td>Maybelline New York- Fit Me Liquid Foundation ...</td>\n",
       "      <td>Rs.599.25</td>\n",
       "      <td>Rs.599.25</td>\n",
       "    </tr>\n",
       "    <tr>\n",
       "      <td>16</td>\n",
       "      <td>Benefit- High Beam Satiny Pink Complexion High...</td>\n",
       "      <td>Rs.2,500.00</td>\n",
       "      <td>Rs.2,500.00</td>\n",
       "    </tr>\n",
       "    <tr>\n",
       "      <td>17</td>\n",
       "      <td>Charlotte Tilbury- 2-Fair Light Wonder( 40ml )</td>\n",
       "      <td>Rs.7,999.00</td>\n",
       "      <td>Rs.7,999.00</td>\n",
       "    </tr>\n",
       "    <tr>\n",
       "      <td>18</td>\n",
       "      <td>I Heart Makeup- Hearts Blusher Blushing Heart</td>\n",
       "      <td>NaN</td>\n",
       "      <td>Rs.7,999.00</td>\n",
       "    </tr>\n",
       "    <tr>\n",
       "      <td>19</td>\n",
       "      <td>Bourjois- Face Blush 15 Rose Eclat,8414</td>\n",
       "      <td>NaN</td>\n",
       "      <td>Rs.7,999.00</td>\n",
       "    </tr>\n",
       "    <tr>\n",
       "      <td>20</td>\n",
       "      <td>Max Factor- Lasting Performance Make Up Founda...</td>\n",
       "      <td>NaN</td>\n",
       "      <td>Rs.7,999.00</td>\n",
       "    </tr>\n",
       "    <tr>\n",
       "      <td>21</td>\n",
       "      <td>Maybelline New York- Fit Me Liquid Foundation ...</td>\n",
       "      <td>Rs.599.25</td>\n",
       "      <td>Rs.599.25</td>\n",
       "    </tr>\n",
       "  </tbody>\n",
       "</table>\n",
       "</div>"
      ],
      "text/plain": [
       "                                                Title        price  \\\n",
       "0   Wet n Wild-MegaGlo Dual-Ended Contour Stick  -...    Rs.960.00   \n",
       "1   L.A Girl- Illuminating Blush- Playful Pink, BL565    Rs.578.00   \n",
       "2   Maybelline New York- Fit Me Liquid Foundation ...    Rs.599.25   \n",
       "3                    Color Studio- Eye Makeup Remover          NaN   \n",
       "4   The Ordinary- 1.0 N Very Fair Serum Foundation...  Rs.1,780.00   \n",
       "5   Rimmel London- Lasting Finish Foundation True ...  Rs.1,440.00   \n",
       "6   Neutrogena- Deep Clean Makeup Removing Wipes 25'S    Rs.490.00   \n",
       "7      L.A Girl- Illuminating Blush - Bashful, GBL552    Rs.640.00   \n",
       "8   Wet n Wild- Photo Focus MATTE Setting Spray - ...          NaN   \n",
       "9   Rimmel London- Lasting Finish Foundation- Ivor...  Rs.1,440.00   \n",
       "10  The Ordinary- 2.0 P Light Medium Coverage Foun...  Rs.1,825.00   \n",
       "11  The Ordinary- 2.0 N Light Medium Serum Foundat...  Rs.1,780.00   \n",
       "12  Wet n Wild- E373C Photo Focus Foundation - Amb...  Rs.1,360.00   \n",
       "13              Wet N Wild- Photo Focus Setting Spray          NaN   \n",
       "14     The Ordinary- 1.1 N Fair Serum Foundation 30ml  Rs.1,780.00   \n",
       "15  Maybelline New York- Fit Me Liquid Foundation ...    Rs.599.25   \n",
       "16  Benefit- High Beam Satiny Pink Complexion High...  Rs.2,500.00   \n",
       "17     Charlotte Tilbury- 2-Fair Light Wonder( 40ml )  Rs.7,999.00   \n",
       "18      I Heart Makeup- Hearts Blusher Blushing Heart          NaN   \n",
       "19            Bourjois- Face Blush 15 Rose Eclat,8414          NaN   \n",
       "20  Max Factor- Lasting Performance Make Up Founda...          NaN   \n",
       "21  Maybelline New York- Fit Me Liquid Foundation ...    Rs.599.25   \n",
       "\n",
       "      price_new  \n",
       "0     Rs.960.00  \n",
       "1     Rs.578.00  \n",
       "2     Rs.599.25  \n",
       "3     Rs.599.25  \n",
       "4   Rs.1,780.00  \n",
       "5   Rs.1,440.00  \n",
       "6     Rs.490.00  \n",
       "7     Rs.640.00  \n",
       "8     Rs.640.00  \n",
       "9   Rs.1,440.00  \n",
       "10  Rs.1,825.00  \n",
       "11  Rs.1,780.00  \n",
       "12  Rs.1,360.00  \n",
       "13  Rs.1,360.00  \n",
       "14  Rs.1,780.00  \n",
       "15    Rs.599.25  \n",
       "16  Rs.2,500.00  \n",
       "17  Rs.7,999.00  \n",
       "18  Rs.7,999.00  \n",
       "19  Rs.7,999.00  \n",
       "20  Rs.7,999.00  \n",
       "21    Rs.599.25  "
      ]
     },
     "execution_count": 59,
     "metadata": {},
     "output_type": "execute_result"
    }
   ],
   "source": [
    "df.head(22)"
   ]
  },
  {
   "cell_type": "code",
   "execution_count": 60,
   "metadata": {},
   "outputs": [
    {
     "name": "stdout",
     "output_type": "stream",
     "text": [
      "Title        object\n",
      "price        object\n",
      "price_new    object\n",
      "dtype: object\n"
     ]
    }
   ],
   "source": [
    "print (df.dtypes)"
   ]
  },
  {
   "cell_type": "markdown",
   "metadata": {},
   "source": [
    "# USED STR.REPLACE() TO CONVERSION FOR CURRENCY INTO FLOAT"
   ]
  },
  {
   "cell_type": "code",
   "execution_count": 61,
   "metadata": {},
   "outputs": [
    {
     "data": {
      "text/plain": [
       "0       960.00\n",
       "1       578.00\n",
       "2       599.25\n",
       "3       599.25\n",
       "4      1780.00\n",
       "        ...   \n",
       "453     867.00\n",
       "454     799.20\n",
       "455     799.20\n",
       "456     799.20\n",
       "457     799.20\n",
       "Name: price_new, Length: 458, dtype: object"
      ]
     },
     "execution_count": 61,
     "metadata": {},
     "output_type": "execute_result"
    }
   ],
   "source": [
    "#Let’s try removing the ‘Rs’ and ‘,’ using str.replace :\n",
    "df['price_new'] = df['price_new'].str.replace(',', '')\n",
    "df['price_new'] = df['price_new'].str.replace('Rs.', '')\n",
    "df['price_new']"
   ]
  },
  {
   "cell_type": "code",
   "execution_count": 62,
   "metadata": {},
   "outputs": [
    {
     "data": {
      "text/html": [
       "<div>\n",
       "<style scoped>\n",
       "    .dataframe tbody tr th:only-of-type {\n",
       "        vertical-align: middle;\n",
       "    }\n",
       "\n",
       "    .dataframe tbody tr th {\n",
       "        vertical-align: top;\n",
       "    }\n",
       "\n",
       "    .dataframe thead th {\n",
       "        text-align: right;\n",
       "    }\n",
       "</style>\n",
       "<table border=\"1\" class=\"dataframe\">\n",
       "  <thead>\n",
       "    <tr style=\"text-align: right;\">\n",
       "      <th></th>\n",
       "      <th>Title</th>\n",
       "      <th>price</th>\n",
       "      <th>price_new</th>\n",
       "    </tr>\n",
       "  </thead>\n",
       "  <tbody>\n",
       "    <tr>\n",
       "      <td>0</td>\n",
       "      <td>Wet n Wild-MegaGlo Dual-Ended Contour Stick  -...</td>\n",
       "      <td>Rs.960.00</td>\n",
       "      <td>960.00</td>\n",
       "    </tr>\n",
       "    <tr>\n",
       "      <td>1</td>\n",
       "      <td>L.A Girl- Illuminating Blush- Playful Pink, BL565</td>\n",
       "      <td>Rs.578.00</td>\n",
       "      <td>578.00</td>\n",
       "    </tr>\n",
       "    <tr>\n",
       "      <td>2</td>\n",
       "      <td>Maybelline New York- Fit Me Liquid Foundation ...</td>\n",
       "      <td>Rs.599.25</td>\n",
       "      <td>599.25</td>\n",
       "    </tr>\n",
       "    <tr>\n",
       "      <td>3</td>\n",
       "      <td>Color Studio- Eye Makeup Remover</td>\n",
       "      <td>NaN</td>\n",
       "      <td>599.25</td>\n",
       "    </tr>\n",
       "    <tr>\n",
       "      <td>4</td>\n",
       "      <td>The Ordinary- 1.0 N Very Fair Serum Foundation...</td>\n",
       "      <td>Rs.1,780.00</td>\n",
       "      <td>1780.00</td>\n",
       "    </tr>\n",
       "  </tbody>\n",
       "</table>\n",
       "</div>"
      ],
      "text/plain": [
       "                                               Title        price price_new\n",
       "0  Wet n Wild-MegaGlo Dual-Ended Contour Stick  -...    Rs.960.00    960.00\n",
       "1  L.A Girl- Illuminating Blush- Playful Pink, BL565    Rs.578.00    578.00\n",
       "2  Maybelline New York- Fit Me Liquid Foundation ...    Rs.599.25    599.25\n",
       "3                   Color Studio- Eye Makeup Remover          NaN    599.25\n",
       "4  The Ordinary- 1.0 N Very Fair Serum Foundation...  Rs.1,780.00   1780.00"
      ]
     },
     "execution_count": 62,
     "metadata": {},
     "output_type": "execute_result"
    }
   ],
   "source": [
    "df.head()"
   ]
  },
  {
   "cell_type": "code",
   "execution_count": null,
   "metadata": {},
   "outputs": [],
   "source": []
  }
 ],
 "metadata": {
  "kernelspec": {
   "display_name": "Python 3",
   "language": "python",
   "name": "python3"
  },
  "language_info": {
   "codemirror_mode": {
    "name": "ipython",
    "version": 3
   },
   "file_extension": ".py",
   "mimetype": "text/x-python",
   "name": "python",
   "nbconvert_exporter": "python",
   "pygments_lexer": "ipython3",
   "version": "3.7.4"
  }
 },
 "nbformat": 4,
 "nbformat_minor": 2
}
